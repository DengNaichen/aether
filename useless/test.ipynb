{
 "cells": [
  {
   "cell_type": "code",
   "execution_count": null,
   "id": "1156c8cc",
   "metadata": {},
   "outputs": [],
   "source": [
    "# import json\n"
   ]
  }
 ],
 "metadata": {
  "kernelspec": {
   "display_name": "tutor-env",
   "language": "python",
   "name": "python3"
  },
  "language_info": {
   "name": "python",
   "version": "3.12.11"
  }
 },
 "nbformat": 4,
 "nbformat_minor": 5
}
