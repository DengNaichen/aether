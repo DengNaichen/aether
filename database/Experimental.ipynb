{
 "cells": [
  {
   "cell_type": "code",
   "execution_count": null,
   "id": "initial_id",
   "metadata": {
    "ExecuteTime": {
     "end_time": "2025-10-02T19:00:28.766691Z",
     "start_time": "2025-10-02T19:00:28.761694Z"
    },
    "collapsed": true
   },
   "outputs": [],
   "source": [
    "import uuid\n",
    "\n",
    "from datetime import datetime\n",
    "from neo4j import GraphDatabase, exceptions\n",
    "from numpy.core.records import record"
   ]
  },
  {
   "cell_type": "code",
   "execution_count": 45,
   "id": "1e03873938df35e9",
   "metadata": {
    "ExecuteTime": {
     "end_time": "2025-10-02T19:53:12.638637Z",
     "start_time": "2025-10-02T19:53:12.635183Z"
    }
   },
   "outputs": [],
   "source": [
    "URI = \"bolt://127.0.0.1:7687\"\n",
    "AUTH = (\"neo4j\", \"d1997225\")  # 修改为你的密码\n",
    "DATABASE = \"chapter3\"\n",
    "driver = GraphDatabase.driver(URI, auth=AUTH)"
   ]
  },
  {
   "cell_type": "code",
   "execution_count": null,
   "id": "5c6b6f5530e2f200",
   "metadata": {},
   "outputs": [],
   "source": [
    "# Delete student\n",
    "def delete_student(student_id):\n",
    "    query = \"\"\"\n",
    "    MATCH (s: Student {studentId: $studentId})\n",
    "    DETACH DELETE s\n",
    "    \"\"\"\n",
    "    with driver.session(database=DATABASE) as session:\n",
    "        session.run(query, studentId=student_id)\n",
    "delete_student(\"S_0611C171\")"
   ]
  },
  {
   "cell_type": "code",
   "execution_count": 40,
   "id": "cf77fb0f9ee79844",
   "metadata": {
    "ExecuteTime": {
     "end_time": "2025-10-02T19:16:38.417964Z",
     "start_time": "2025-10-02T19:16:38.396534Z"
    }
   },
   "outputs": [
    {
     "data": {
      "text/plain": [
       "<Node element_id='4:8d5647cc-0abe-4dd1-9054-4758db8fd05f:102' labels=frozenset({'Student'}) properties={'studentId': 'S_C103FCBC', 'name': 'chloe'}>"
      ]
     },
     "execution_count": 40,
     "metadata": {},
     "output_type": "execute_result"
    }
   ],
   "source": [
    "# Create a new student\n",
    "def create_student(name, student_id):\n",
    "    query = \"\"\"\n",
    "    CREATE (s:Student {name: $name, studentId: $studentId} )\n",
    "    RETURN s\n",
    "    \"\"\"\n",
    "    with driver.session(database=DATABASE) as session:\n",
    "        ifNew = True\n",
    "        result = session.run(query,\n",
    "                             name=name,\n",
    "                             studentId = student_id)\n",
    "        return result.single()[0]\n",
    "\n",
    "student_name = \"chloe\"\n",
    "student_id = f'S_{uuid.uuid4().hex[:8].upper()}'\n",
    "create_student(student_name, student_id)"
   ]
  },
  {
   "cell_type": "code",
   "execution_count": 41,
   "id": "bedebd6e4b094b81",
   "metadata": {
    "ExecuteTime": {
     "end_time": "2025-10-02T19:16:58.792966Z",
     "start_time": "2025-10-02T19:16:58.789364Z"
    }
   },
   "outputs": [],
   "source": [
    "def create_relationship(student_id, initial_level):\n",
    "    query = \"\"\"\n",
    "    MATCH (s:Student {studentId: $studentId}), (c:Concept)\n",
    "    MERGE (s)-[r:HAS_MASTERY]->(c)\n",
    "    ON CREATE SET r.level = $level, r.last_updated = $last_updated\n",
    "    RETURN s, collect(r) as mastery_relationships\n",
    "    \"\"\"\n",
    "    with driver.session(database=DATABASE) as session:\n",
    "        level = initial_level  # initial mastery level\n",
    "        last_updated = datetime.now().isoformat()  # ISO formatted timestamp\n",
    "        result = session.run(\n",
    "            query,\n",
    "            studentId=student_id,\n",
    "            level=level,\n",
    "            last_updated=last_updated\n",
    "        )\n",
    "        record = result.single()\n",
    "        if record:\n",
    "            return {\n",
    "                \"student\": record[\"s\"],\n",
    "                \"mastery_relationships\": record[\"mastery_relationships\"]\n",
    "            }\n",
    "        return None"
   ]
  },
  {
   "cell_type": "code",
   "execution_count": 42,
   "id": "b41f7051e42de3e5",
   "metadata": {
    "ExecuteTime": {
     "end_time": "2025-10-02T19:17:00.568889Z",
     "start_time": "2025-10-02T19:17:00.500224Z"
    }
   },
   "outputs": [],
   "source": [
    "initial_level = 0.1\n",
    "result = create_relationship(student_id, initial_level)"
   ]
  },
  {
   "cell_type": "code",
   "execution_count": 60,
   "id": "2304a84883f2aa63",
   "metadata": {
    "ExecuteTime": {
     "end_time": "2025-10-02T20:13:18.474246Z",
     "start_time": "2025-10-02T20:13:18.462115Z"
    }
   },
   "outputs": [
    {
     "name": "stdout",
     "output_type": "stream",
     "text": [
      "[\n",
      "  {\n",
      "    \"problemId\": \"test_478A638A\",\n",
      "    \"question\": \"According to Dalton's Atomic Theory, which statement is a key principle?\",\n",
      "    \"option\": [\n",
      "      \"Atoms can be divided into smaller particles.\",\n",
      "      \"Atoms of one element can be converted into atoms of another element.\",\n",
      "      \"All matter is made up of tiny particles called atoms.\",\n",
      "      \"Atoms of the same element can have different masses.\"\n",
      "    ],\n",
      "    \"correct\": 2\n",
      "  },\n",
      "  {\n",
      "    \"problemId\": \"test_42510643\",\n",
      "    \"question\": \"The central core of an atom, containing protons and neutrons, is called the:\",\n",
      "    \"option\": [\n",
      "      \"Electron cloud\",\n",
      "      \"Nucleus\",\n",
      "      \"Energy level\",\n",
      "      \"Valence shell\"\n",
      "    ],\n",
      "    \"correct\": 1\n",
      "  },\n",
      "  {\n",
      "    \"problemId\": \"test_E8CB13E6\",\n",
      "    \"question\": \"A Lewis structure uses dots to represent which type of electrons?\",\n",
      "    \"option\": [\n",
      "      \"All electrons in an atom\",\n",
      "      \"Only the electrons in the first energy level\",\n",
      "      \"Only the valence electrons\",\n",
      "      \"Only the core electrons\"\n",
      "    ],\n",
      "    \"correct\": 2\n",
      "  },\n",
      "  {\n",
      "    \"problemId\": \"test_031FAF92\",\n",
      "    \"question\": \"Carbon-12 and Carbon-14 are examples of:\",\n",
      "    \"option\": [\n",
      "      \"Ions\",\n",
      "      \"Isotopes\",\n",
      "      \"Isomers\",\n",
      "      \"Cations\"\n",
      "    ],\n",
      "    \"correct\": 1\n",
      "  },\n",
      "  {\n",
      "    \"problemId\": \"test_50C4294C\",\n",
      "    \"question\": \"Which of these is NOT a subatomic particle?\",\n",
      "    \"option\": [\n",
      "      \"Proton\",\n",
      "      \"Neutron\",\n",
      "      \"Electron\",\n",
      "      \"Molecule\"\n",
      "    ],\n",
      "    \"correct\": 3\n",
      "  }\n",
      "]\n"
     ]
    }
   ],
   "source": [
    "import json\n",
    "# then we need to deal the cold start issue\n",
    "# here we randomly pick 5 points, later version we need to update it\n",
    "def random_pick_5(num_questions=5):\n",
    "    query=\"\"\"\n",
    "    MATCH (con: Concept)\n",
    "    WITH con ORDER BY rand() LIMIT $num\n",
    "\n",
    "    WITH con\n",
    "    CALL (con) {\n",
    "        MATCH (p:Problem)-[:TESTED]->(con)\n",
    "        RETURN p\n",
    "        LIMIT 1\n",
    "    }\n",
    "\n",
    "    RETURN p.id AS problemId,\n",
    "           p.question AS question,\n",
    "           p.options AS option,\n",
    "           p.correct AS correct\n",
    "\n",
    "    \"\"\"\n",
    "    driver = None\n",
    "    try:\n",
    "        driver = GraphDatabase.driver(URI, auth=AUTH)\n",
    "        driver.verify_connectivity()\n",
    "\n",
    "        with driver.session(database=DATABASE) as session:\n",
    "            result = session.run(query, num = num_questions)\n",
    "            questions = [record.data() for record in result]\n",
    "            return questions\n",
    "\n",
    "    except Exception as e:\n",
    "        # 如果发生任何错误，打印错误信息并返回空列表\n",
    "        print(f\"An error occurred: {e}\")\n",
    "        return []\n",
    "\n",
    "    finally:\n",
    "        # 无论成功还是失败，最后都确保关闭数据库连接\n",
    "        if driver is not None:\n",
    "            driver.close()\n",
    "\n",
    "question = random_pick_5()\n",
    "question_json = json.dumps(question, ensure_ascii=False, indent=2)\n",
    "print(question_json)\n",
    "# then we can send this to frontend"
   ]
  },
  {
   "cell_type": "code",
   "execution_count": 62,
   "id": "ec5128b07c4a871",
   "metadata": {
    "ExecuteTime": {
     "end_time": "2025-10-02T20:17:54.853048Z",
     "start_time": "2025-10-02T20:17:54.848921Z"
    }
   },
   "outputs": [],
   "source": [
    "# assume we already had all the result of these problems\n",
    "# 下一步是将这5个简单的“对/错”结果，转化为学生在知识图谱中的初始“知识画像”，然后立即给出第一次个性化推荐。\n",
    "student_id = student_id\n",
    "test_results = [\n",
    "    {'problemId': 'test_478A638A', 'isCorrect': True},\n",
    "    {'problemId': 'test_42510643', 'isCorrect': False},\n",
    "    {'problemId': 'test_E8CB13E6', 'isCorrect': True},\n",
    "    {'problemId': 'test_031FAF92', 'isCorrect': False},\n",
    "    {'problemId': 'test_50C4294C', 'isCorrect': True}\n",
    "]"
   ]
  },
  {
   "cell_type": "code",
   "execution_count": null,
   "id": "46e989e1f11f2757",
   "metadata": {},
   "outputs": [],
   "source": []
  },
  {
   "cell_type": "markdown",
   "id": "d86c51f9737df259",
   "metadata": {},
   "source": [
    "您的下一步是将这5个简单的“对/错”结果，转化为学生在知识图谱中的初始“知识画像”，然后立即给出第一次个性化推荐。## Check the mastery level\n",
    "Assume I have a user call \"Chloe\", who can be sign up today or probably few days ago, so the date cannot be the criteria, so we check the mastery level, if all"
   ]
  },
  {
   "cell_type": "code",
   "execution_count": 31,
   "id": "8b1aca3241cf083d",
   "metadata": {
    "ExecuteTime": {
     "end_time": "2025-10-01T18:32:16.747841Z",
     "start_time": "2025-10-01T18:32:16.744369Z"
    }
   },
   "outputs": [],
   "source": [
    "def check_mastery_zero(records):\n",
    "\n",
    "    all_zero = True\n",
    "    assert records != []\n",
    "\n",
    "    for record in records:\n",
    "        concept = record['concept_name']\n",
    "        mastery_level = record['mastery']\n",
    "\n",
    "        print(f\"Concept: {concept}, Mastery: {mastery_level}\")\n",
    "        if mastery_level != 0:\n",
    "            all_zero = False\n",
    "    return all_zero\n"
   ]
  },
  {
   "cell_type": "code",
   "execution_count": 34,
   "id": "cb45758bfa708bca",
   "metadata": {
    "ExecuteTime": {
     "end_time": "2025-10-01T18:34:52.399200Z",
     "start_time": "2025-10-01T18:34:52.394589Z"
    }
   },
   "outputs": [],
   "source": [
    "def check_mastery_zero(records):\n",
    "\n",
    "    all_zero = True\n",
    "    assert records != []\n",
    "\n",
    "    for record in records:\n",
    "        concept = record['concept_name']\n",
    "        mastery_level = record['mastery']\n",
    "\n",
    "        print(f\"Concept: {concept}, Mastery: {mastery_level}\")\n",
    "        if mastery_level != 0:\n",
    "            all_zero = False\n",
    "    return all_zero\n",
    "\n",
    "def check_mastery(user_name):\n",
    "    \"\"\"\n",
    "    Checks if the user has all mastery levels at zero.\n",
    "    If not, sets user.new = 'FALSE'.\n",
    "    \"\"\"\n",
    "\n",
    "    query_fetch = \"\"\"\n",
    "    MATCH (c:User {name: $name})-[r:HAS_MASTERY]->(con:Concept)\n",
    "    RETURN r.mastery AS mastery, con.name AS concept_name\n",
    "    \"\"\"\n",
    "    query_update = \"\"\"\n",
    "    MATCH (a:User {name: $name})\n",
    "    SET a.new = {$new_student}\n",
    "    \"\"\"\n",
    "    params_fetch = {\"name\" : user_name}\n",
    "    params_update = {\"name\" : user_name, \"new_student\": \"FALSE\"}\n",
    "\n",
    "    with driver.session(database=DATABASE) as session:\n",
    "        result = session.run(query_fetch, params_fetch)\n",
    "        records = list(result)\n",
    "        if check_mastery_zero(records):\n",
    "            pass\n",
    "        else:\n",
    "            session.run(query_update, params_update)\n"
   ]
  },
  {
   "cell_type": "code",
   "execution_count": 35,
   "id": "69e31341a4edc116",
   "metadata": {
    "ExecuteTime": {
     "end_time": "2025-10-01T18:34:52.585283Z",
     "start_time": "2025-10-01T18:34:52.575870Z"
    }
   },
   "outputs": [
    {
     "name": "stdout",
     "output_type": "stream",
     "text": [
      "Concept: Atom, Mastery: 0\n",
      "Concept: Dalton's Atomic Theory, Mastery: 0\n",
      "Concept: Modern Atomic Theory, Mastery: 0\n",
      "Concept: Subatomic Particle, Mastery: 0\n",
      "Concept: Proton, Mastery: 0\n",
      "Concept: Neutron, Mastery: 0\n",
      "Concept: Electron, Mastery: 0\n",
      "Concept: Nucleus, Mastery: 0\n",
      "Concept: Atomic Number (Z), Mastery: 0\n",
      "Concept: Mass Number (A), Mastery: 0\n",
      "Concept: Isotope, Mastery: 0\n",
      "Concept: Radioisotope, Mastery: 0\n",
      "Concept: Periodic Table, Mastery: 0\n",
      "Concept: Periodic Law, Mastery: 0\n",
      "Concept: Energy Level, Mastery: 0\n",
      "Concept: Valence Electron, Mastery: 0\n",
      "Concept: Lewis Structure, Mastery: 0\n",
      "Concept: Stable Octet, Mastery: 0\n",
      "Concept: Periodic Trend, Mastery: 0\n",
      "Concept: Atomic Radius, Mastery: 0\n",
      "Concept: Ion, Mastery: 0\n",
      "Concept: Cation, Mastery: 0\n",
      "Concept: Anion, Mastery: 0\n",
      "Concept: Ionization Energy, Mastery: 0\n",
      "Concept: Electron Affinity, Mastery: 0\n"
     ]
    }
   ],
   "source": [
    "check_mastery(\"Chloe\")"
   ]
  },
  {
   "cell_type": "markdown",
   "id": "c38fd8fa71004244",
   "metadata": {},
   "source": [
    "## Now we know that \"Chloe\" is the new student\n",
    "Next step is to random push 3 problems to her"
   ]
  },
  {
   "cell_type": "code",
   "execution_count": 57,
   "id": "a36f17d624ed1eec",
   "metadata": {
    "ExecuteTime": {
     "end_time": "2025-10-01T19:18:41.153040Z",
     "start_time": "2025-10-01T19:18:41.150104Z"
    }
   },
   "outputs": [],
   "source": [
    "# first, check if \"Chloe\" is a new student\n",
    "# assume she is, random choose 3 problems for her\n",
    "\n",
    "def random_fetch_concept(user_name, n=3):\n",
    "    \"\"\"\n",
    "    Fetch `n` random Concept nodes that the user has HAS_MASTERY relationships with,\n",
    "    along with all Problem nodes linked via TESTED (Problem -> Concept).\n",
    "    Returns a list of dictionaries with concept name, mastery, and problems list.\n",
    "    \"\"\"\n",
    "    query_fetch = \"\"\"\n",
    "    MATCH (c:User {name: $user_name})-[r:HAS_MASTERY]->(con:Concept)\n",
    "    OPTIONAL MATCH (p:Problem)-[:TESTED]->(con)\n",
    "    RETURN con.name AS concept_name, r.mastery AS mastery, collect(p) AS problems\n",
    "    ORDER BY rand()\n",
    "    LIMIT $limit\n",
    "    \"\"\"\n",
    "    params_fetch = {\"user_name\": user_name, \"limit\": n}\n",
    "\n",
    "    with driver.session(database=DATABASE) as session:\n",
    "        result = session.run(query_fetch, params_fetch)\n",
    "        concepts = []\n",
    "        for record in result:\n",
    "            # Convert each Problem node to a dictionary of its properties\n",
    "            problems_list = [dict(p) for p in record[\"problems\"] if p is not None]\n",
    "            concepts.append({\n",
    "                \"concept_name\": record[\"concept_name\"],\n",
    "                \"mastery\": record[\"mastery\"],\n",
    "                \"problems\": problems_list\n",
    "            })\n",
    "    return concepts\n",
    "\n"
   ]
  },
  {
   "cell_type": "code",
   "execution_count": 58,
   "id": "70f29cfec27e02d2",
   "metadata": {
    "ExecuteTime": {
     "end_time": "2025-10-01T19:18:41.366050Z",
     "start_time": "2025-10-01T19:18:41.357540Z"
    }
   },
   "outputs": [
    {
     "data": {
      "text/plain": [
       "[{'concept_name': 'Isotope',\n",
       "  'mastery': 0,\n",
       "  'problems': [{'difficulty': 'easy',\n",
       "    'question': 'Carbon-12 and Carbon-14 are examples of:',\n",
       "    'correct': 1,\n",
       "    'options': ['Ions', 'Isotopes', 'Isomers', 'Cations'],\n",
       "    'id': 'test_031FAF92'},\n",
       "   {'difficulty': 'medium',\n",
       "    'question': 'What do isotopes of an element have in common?',\n",
       "    'correct': 2,\n",
       "    'options': ['Mass number',\n",
       "     'Number of neutrons',\n",
       "     'Atomic number',\n",
       "     'Atomic mass'],\n",
       "    'id': 'test_94AC2D28'},\n",
       "   {'difficulty': 'medium',\n",
       "    'question': 'Which of these pairs represents isotopes of the same element?',\n",
       "    'correct': 2,\n",
       "    'options': ['${}^{14}_6$C and ${}^{14}_7$N',\n",
       "     '${}^{39}_{19}$K and ${}^{40}_{20}$Ca',\n",
       "     '${}^{235}_{92}$U and ${}^{238}_{92}$U',\n",
       "     '${}^{16}_8$O and ${}^{18}_9$F'],\n",
       "    'id': 'test_35937AE0'},\n",
       "   {'difficulty': 'easy',\n",
       "    'question': 'What is the mass number of an isotope with 20 protons and 22 neutrons?',\n",
       "    'correct': 3,\n",
       "    'options': ['20', '22', '40', '42'],\n",
       "    'id': 'test_AF4C549B'}]},\n",
       " {'concept_name': 'Proton',\n",
       "  'mastery': 0,\n",
       "  'problems': [{'difficulty': 'easy',\n",
       "    'question': 'Which subatomic particle has a positive charge and is found in the nucleus?',\n",
       "    'correct': 2,\n",
       "    'options': ['Electron', 'Neutron', 'Proton', 'Photon'],\n",
       "    'id': 'test_720C1D61'},\n",
       "   {'difficulty': 'easy',\n",
       "    'question': \"An atom's identity is determined by its:\",\n",
       "    'correct': 1,\n",
       "    'options': ['Number of neutrons',\n",
       "     'Number of protons',\n",
       "     'Mass number',\n",
       "     'Number of valence electrons'],\n",
       "    'id': 'test_D76CA1C1'},\n",
       "   {'difficulty': 'medium',\n",
       "    'question': 'Which of these is NOT a property of protons?',\n",
       "    'correct': 3,\n",
       "    'options': ['Positive charge',\n",
       "     'Mass of approximately 1 amu',\n",
       "     'Located in the nucleus',\n",
       "     'Repels neutrons'],\n",
       "    'id': 'test_13733384'}]},\n",
       " {'concept_name': 'Cation',\n",
       "  'mastery': 0,\n",
       "  'problems': [{'difficulty': 'medium',\n",
       "    'question': 'When a neutral sodium atom (Na) loses one electron, it becomes a(n):',\n",
       "    'correct': 1,\n",
       "    'options': ['Anion with a 1- charge',\n",
       "     'Cation with a 1+ charge',\n",
       "     'Anion with a 1+ charge',\n",
       "     'Cation with a 1- charge'],\n",
       "    'id': 'test_52908E4D'},\n",
       "   {'difficulty': 'medium',\n",
       "    'question': 'Which of the following will form a cation with a 2+ charge?',\n",
       "    'correct': 1,\n",
       "    'options': ['Sodium (Na)',\n",
       "     'Magnesium (Mg)',\n",
       "     'Aluminum (Al)',\n",
       "     'Chlorine (Cl)'],\n",
       "    'id': 'test_CA956567'},\n",
       "   {'difficulty': 'easy',\n",
       "    'question': 'A cation is a type of ion that has a:',\n",
       "    'correct': 0,\n",
       "    'options': ['Positive charge',\n",
       "     'Negative charge',\n",
       "     'Neutral charge',\n",
       "     'Variable charge'],\n",
       "    'id': 'test_E0529042'},\n",
       "   {'difficulty': 'medium',\n",
       "    'question': 'An aluminum ion, Al$^{3+}$, is formed by:',\n",
       "    'correct': 3,\n",
       "    'options': ['Gaining 3 protons',\n",
       "     'Losing 3 protons',\n",
       "     'Gaining 3 electrons',\n",
       "     'Losing 3 electrons'],\n",
       "    'id': 'test_EFFBF695'}]}]"
      ]
     },
     "execution_count": 58,
     "metadata": {},
     "output_type": "execute_result"
    }
   ],
   "source": [
    "random_fetch_concept(\"Chloe\", 3)"
   ]
  },
  {
   "cell_type": "markdown",
   "id": "cff2a18c5dcff2f9",
   "metadata": {},
   "source": []
  },
  {
   "cell_type": "code",
   "execution_count": 10,
   "id": "1163a3b1a8a9be39",
   "metadata": {
    "ExecuteTime": {
     "end_time": "2025-10-02T18:23:30.067056Z",
     "start_time": "2025-10-02T18:23:30.064278Z"
    }
   },
   "outputs": [],
   "source": [
    "# Create a new student\n",
    "def create_student(name):\n",
    "    query = \"\"\"\n",
    "    CREATE (s: Student (name: $name, studentId: $studentId, ifNew=$ifNew)\n",
    "    RETURN s\n",
    "    \"\"\"\n",
    "    with driver.session() as session:\n",
    "        ifNew = True\n",
    "        result = session.run(query,\n",
    "                             name=name,\n",
    "                             studentId = f'S_{uuid.uuid4().hex[:8].upper()}',\n",
    "                             ifNew=ifNew)\n",
    "        return result.single()[0]\n",
    "\n",
    "\n",
    "create_student(\"chloe\")"
   ]
  },
  {
   "cell_type": "code",
   "execution_count": 11,
   "id": "de32d5c0fdd8f674",
   "metadata": {
    "ExecuteTime": {
     "end_time": "2025-10-02T18:23:30.606734Z",
     "start_time": "2025-10-02T18:23:30.521176Z"
    }
   },
   "outputs": [
    {
     "ename": "ClientError",
     "evalue": "{code: Neo.ClientError.Database.DatabaseNotFound} {message: Database does not exist. Database name: 'neo4j'.}",
     "output_type": "error",
     "traceback": [
      "\u001b[31m---------------------------------------------------------------------------\u001b[39m",
      "\u001b[31mGqlError\u001b[39m                                  Traceback (most recent call last)",
      "\u001b[31mGqlError\u001b[39m: {gql_status: 22N51} {gql_status_description: error: data exception - graph reference not found. A graph reference with the name `neo4j` was not found. Verify that the spelling is correct.} {message: 22N51: A graph reference with the name `neo4j` was not found. Verify that the spelling is correct.} {diagnostic_record: {'_classification': 'CLIENT_ERROR', 'OPERATION': '', 'OPERATION_CODE': '0', 'CURRENT_SCHEMA': '/'}} {raw_classification: CLIENT_ERROR}",
      "\nThe above exception was the direct cause of the following exception:\n",
      "\u001b[31mClientError\u001b[39m                               Traceback (most recent call last)",
      "\u001b[36mCell\u001b[39m\u001b[36m \u001b[39m\u001b[32mIn[11]\u001b[39m\u001b[32m, line 1\u001b[39m\n\u001b[32m----> \u001b[39m\u001b[32m1\u001b[39m create_student(\u001b[33m\"\u001b[39m\u001b[33mchloe\u001b[39m\u001b[33m\"\u001b[39m)\n",
      "\u001b[36mCell\u001b[39m\u001b[36m \u001b[39m\u001b[32mIn[10]\u001b[39m\u001b[32m, line 9\u001b[39m, in \u001b[36mcreate_student\u001b[39m\u001b[34m(name)\u001b[39m\n\u001b[32m      7\u001b[39m \u001b[38;5;28;01mwith\u001b[39;00m driver.session() \u001b[38;5;28;01mas\u001b[39;00m session:\n\u001b[32m      8\u001b[39m     ifNew = \u001b[38;5;28;01mTrue\u001b[39;00m\n\u001b[32m----> \u001b[39m\u001b[32m9\u001b[39m     result = session.run(query,\n\u001b[32m     10\u001b[39m                          name=name,\n\u001b[32m     11\u001b[39m                          studentId = \u001b[33mf\u001b[39m\u001b[33m'\u001b[39m\u001b[33mS_\u001b[39m\u001b[38;5;132;01m{\u001b[39;00muuid.uuid4().hex[:\u001b[32m8\u001b[39m].upper()\u001b[38;5;132;01m}\u001b[39;00m\u001b[33m'\u001b[39m,\n\u001b[32m     12\u001b[39m                          ifNew=ifNew)\n\u001b[32m     13\u001b[39m     \u001b[38;5;28;01mreturn\u001b[39;00m result.single()[\u001b[32m0\u001b[39m]\n",
      "\u001b[36mFile \u001b[39m\u001b[32m~/opt/anaconda3/envs/tutor-env/lib/python3.12/site-packages/neo4j/_sync/work/session.py:330\u001b[39m, in \u001b[36mSession.run\u001b[39m\u001b[34m(self, query, parameters, **kwargs)\u001b[39m\n\u001b[32m    328\u001b[39m bookmarks = \u001b[38;5;28mself\u001b[39m._get_bookmarks()\n\u001b[32m    329\u001b[39m parameters = \u001b[38;5;28mdict\u001b[39m(parameters \u001b[38;5;129;01mor\u001b[39;00m {}, **kwargs)\n\u001b[32m--> \u001b[39m\u001b[32m330\u001b[39m \u001b[38;5;28mself\u001b[39m._auto_result._run(\n\u001b[32m    331\u001b[39m     query,\n\u001b[32m    332\u001b[39m     parameters,\n\u001b[32m    333\u001b[39m     \u001b[38;5;28mself\u001b[39m._config.database,\n\u001b[32m    334\u001b[39m     \u001b[38;5;28mself\u001b[39m._config.impersonated_user,\n\u001b[32m    335\u001b[39m     \u001b[38;5;28mself\u001b[39m._config.default_access_mode,\n\u001b[32m    336\u001b[39m     bookmarks,\n\u001b[32m    337\u001b[39m     \u001b[38;5;28mself\u001b[39m._config.notifications_min_severity,\n\u001b[32m    338\u001b[39m     \u001b[38;5;28mself\u001b[39m._config.notifications_disabled_classifications,\n\u001b[32m    339\u001b[39m )\n\u001b[32m    341\u001b[39m \u001b[38;5;28;01mreturn\u001b[39;00m \u001b[38;5;28mself\u001b[39m._auto_result\n",
      "\u001b[36mFile \u001b[39m\u001b[32m~/opt/anaconda3/envs/tutor-env/lib/python3.12/site-packages/neo4j/_sync/work/result.py:236\u001b[39m, in \u001b[36mResult._run\u001b[39m\u001b[34m(self, query, parameters, db, imp_user, access_mode, bookmarks, notifications_min_severity, notifications_disabled_classifications)\u001b[39m\n\u001b[32m    234\u001b[39m \u001b[38;5;28mself\u001b[39m._pull()\n\u001b[32m    235\u001b[39m \u001b[38;5;28mself\u001b[39m._connection.send_all()\n\u001b[32m--> \u001b[39m\u001b[32m236\u001b[39m \u001b[38;5;28mself\u001b[39m._attach()\n",
      "\u001b[36mFile \u001b[39m\u001b[32m~/opt/anaconda3/envs/tutor-env/lib/python3.12/site-packages/neo4j/_sync/work/result.py:430\u001b[39m, in \u001b[36mResult._attach\u001b[39m\u001b[34m(self)\u001b[39m\n\u001b[32m    428\u001b[39m \u001b[38;5;28;01mif\u001b[39;00m \u001b[38;5;28mself\u001b[39m._exhausted \u001b[38;5;129;01mis\u001b[39;00m \u001b[38;5;28;01mFalse\u001b[39;00m:\n\u001b[32m    429\u001b[39m     \u001b[38;5;28;01mwhile\u001b[39;00m \u001b[38;5;28mself\u001b[39m._attached \u001b[38;5;129;01mis\u001b[39;00m \u001b[38;5;28;01mFalse\u001b[39;00m:\n\u001b[32m--> \u001b[39m\u001b[32m430\u001b[39m         \u001b[38;5;28mself\u001b[39m._connection.fetch_message()\n",
      "\u001b[36mFile \u001b[39m\u001b[32m~/opt/anaconda3/envs/tutor-env/lib/python3.12/site-packages/neo4j/_sync/io/_common.py:193\u001b[39m, in \u001b[36mConnectionErrorHandler.__getattr__.<locals>.outer.<locals>.inner\u001b[39m\u001b[34m(*args, **kwargs)\u001b[39m\n\u001b[32m    191\u001b[39m \u001b[38;5;28;01mdef\u001b[39;00m\u001b[38;5;250m \u001b[39m\u001b[34minner\u001b[39m(*args, **kwargs):\n\u001b[32m    192\u001b[39m     \u001b[38;5;28;01mtry\u001b[39;00m:\n\u001b[32m--> \u001b[39m\u001b[32m193\u001b[39m         func(*args, **kwargs)\n\u001b[32m    194\u001b[39m     \u001b[38;5;28;01mexcept\u001b[39;00m (Neo4jError, ServiceUnavailable, SessionExpired) \u001b[38;5;28;01mas\u001b[39;00m exc:\n\u001b[32m    195\u001b[39m         \u001b[38;5;28;01massert\u001b[39;00m \u001b[38;5;129;01mnot\u001b[39;00m asyncio.iscoroutinefunction(\u001b[38;5;28mself\u001b[39m.__on_error)\n",
      "\u001b[36mFile \u001b[39m\u001b[32m~/opt/anaconda3/envs/tutor-env/lib/python3.12/site-packages/neo4j/_sync/io/_bolt.py:863\u001b[39m, in \u001b[36mBolt.fetch_message\u001b[39m\u001b[34m(self)\u001b[39m\n\u001b[32m    859\u001b[39m \u001b[38;5;66;03m# Receive exactly one message\u001b[39;00m\n\u001b[32m    860\u001b[39m tag, fields = \u001b[38;5;28mself\u001b[39m.inbox.pop(\n\u001b[32m    861\u001b[39m     hydration_hooks=\u001b[38;5;28mself\u001b[39m.responses[\u001b[32m0\u001b[39m].hydration_hooks\n\u001b[32m    862\u001b[39m )\n\u001b[32m--> \u001b[39m\u001b[32m863\u001b[39m res = \u001b[38;5;28mself\u001b[39m._process_message(tag, fields)\n\u001b[32m    864\u001b[39m \u001b[38;5;28mself\u001b[39m.idle_since = monotonic()\n\u001b[32m    865\u001b[39m \u001b[38;5;28;01mreturn\u001b[39;00m res\n",
      "\u001b[36mFile \u001b[39m\u001b[32m~/opt/anaconda3/envs/tutor-env/lib/python3.12/site-packages/neo4j/_sync/io/_bolt5.py:1208\u001b[39m, in \u001b[36mBolt5x7._process_message\u001b[39m\u001b[34m(self, tag, fields)\u001b[39m\n\u001b[32m   1206\u001b[39m \u001b[38;5;28mself\u001b[39m._enrich_error_diagnostic_record(summary_metadata)\n\u001b[32m   1207\u001b[39m \u001b[38;5;28;01mtry\u001b[39;00m:\n\u001b[32m-> \u001b[39m\u001b[32m1208\u001b[39m     response.on_failure(summary_metadata \u001b[38;5;129;01mor\u001b[39;00m {})\n\u001b[32m   1209\u001b[39m \u001b[38;5;28;01mexcept\u001b[39;00m (ServiceUnavailable, DatabaseUnavailable):\n\u001b[32m   1210\u001b[39m     \u001b[38;5;28;01mif\u001b[39;00m \u001b[38;5;28mself\u001b[39m.pool:\n",
      "\u001b[36mFile \u001b[39m\u001b[32m~/opt/anaconda3/envs/tutor-env/lib/python3.12/site-packages/neo4j/_sync/io/_common.py:263\u001b[39m, in \u001b[36mResponse.on_failure\u001b[39m\u001b[34m(self, metadata)\u001b[39m\n\u001b[32m    261\u001b[39m handler = \u001b[38;5;28mself\u001b[39m.handlers.get(\u001b[33m\"\u001b[39m\u001b[33mon_summary\u001b[39m\u001b[33m\"\u001b[39m)\n\u001b[32m    262\u001b[39m Util.callback(handler)\n\u001b[32m--> \u001b[39m\u001b[32m263\u001b[39m \u001b[38;5;28;01mraise\u001b[39;00m \u001b[38;5;28mself\u001b[39m._hydrate_error(metadata)\n",
      "\u001b[31mClientError\u001b[39m: {code: Neo.ClientError.Database.DatabaseNotFound} {message: Database does not exist. Database name: 'neo4j'.}"
     ]
    }
   ],
   "source": []
  },
  {
   "cell_type": "code",
   "execution_count": null,
   "id": "e07d76ac7c80fe5f",
   "metadata": {},
   "outputs": [],
   "source": []
  }
 ],
 "metadata": {
  "kernelspec": {
   "display_name": "Python 3",
   "language": "python",
   "name": "python3"
  },
  "language_info": {
   "codemirror_mode": {
    "name": "ipython",
    "version": 2
   },
   "file_extension": ".py",
   "mimetype": "text/x-python",
   "name": "python",
   "nbconvert_exporter": "python",
   "pygments_lexer": "ipython2",
   "version": "2.7.6"
  }
 },
 "nbformat": 4,
 "nbformat_minor": 5
}
